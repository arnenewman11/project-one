{
 "cells": [
  {
   "cell_type": "code",
   "execution_count": null,
   "metadata": {
    "collapsed": true
   },
   "outputs": [],
   "source": [
    "#create a list of bike station intersections (Van - complete)\n",
    "#use geocoding to find lat/lng for each bike station (Freeman)\n",
    "#DO WE NEED TO? find nearest address for each lat/lng\n",
    "# Convert Zillow API response w/ neighborhood data to json from XML (Arne - complete)\n",
    "\n",
    "# find a way to identify the neighborhood based on lat/long "
   ]
  },
  {
   "cell_type": "code",
   "execution_count": 1,
   "metadata": {},
   "outputs": [
    {
     "ename": "ModuleNotFoundError",
     "evalue": "No module named 'xmljson'",
     "output_type": "error",
     "traceback": [
      "\u001b[1;31m---------------------------------------------------------------------------\u001b[0m",
      "\u001b[1;31mModuleNotFoundError\u001b[0m                       Traceback (most recent call last)",
      "\u001b[1;32m<ipython-input-1-d9192c72f071>\u001b[0m in \u001b[0;36m<module>\u001b[1;34m()\u001b[0m\n\u001b[0;32m      3\u001b[0m \u001b[1;32mimport\u001b[0m \u001b[0mrequests\u001b[0m \u001b[1;32mas\u001b[0m \u001b[0mreq\u001b[0m\u001b[1;33m\u001b[0m\u001b[0m\n\u001b[0;32m      4\u001b[0m \u001b[1;32mimport\u001b[0m \u001b[0mpandas\u001b[0m \u001b[1;32mas\u001b[0m \u001b[0mpd\u001b[0m\u001b[1;33m\u001b[0m\u001b[0m\n\u001b[1;32m----> 5\u001b[1;33m \u001b[1;32mfrom\u001b[0m \u001b[0mxmljson\u001b[0m \u001b[1;32mimport\u001b[0m \u001b[0mparker\u001b[0m\u001b[1;33m,\u001b[0m \u001b[0mParker\u001b[0m\u001b[1;33m\u001b[0m\u001b[0m\n\u001b[0m\u001b[0;32m      6\u001b[0m \u001b[1;32mfrom\u001b[0m \u001b[0mxml\u001b[0m\u001b[1;33m.\u001b[0m\u001b[0metree\u001b[0m\u001b[1;33m.\u001b[0m\u001b[0mElementTree\u001b[0m \u001b[1;32mimport\u001b[0m \u001b[0mfromstring\u001b[0m\u001b[1;33m\u001b[0m\u001b[0m\n\u001b[0;32m      7\u001b[0m \u001b[1;32mimport\u001b[0m \u001b[0mxml\u001b[0m\u001b[1;33m.\u001b[0m\u001b[0metree\u001b[0m\u001b[1;33m.\u001b[0m\u001b[0mcElementTree\u001b[0m \u001b[1;32mas\u001b[0m \u001b[0mET\u001b[0m\u001b[1;33m\u001b[0m\u001b[0m\n",
      "\u001b[1;31mModuleNotFoundError\u001b[0m: No module named 'xmljson'"
     ]
    }
   ],
   "source": [
    "# Dependencies\n",
    "import json\n",
    "import requests as req\n",
    "import pandas as pd\n",
    "from xmljson import parker, Parker\n",
    "from xml.etree.ElementTree import fromstring\n",
    "import xml.etree.cElementTree as ET\n",
    "from bs4 import BeautifulSoup\n",
    "from math import sin, cos, sqrt, atan2, radians\n",
    "\n",
    "# Save config information\n",
    "api_key = \"X1-ZWz1g5wdt5pyq3_8nu8h\"\n",
    "url = \"http://www.zillow.com/webservice/GetRegionChildren.htm?\"\n",
    "city = \"Washington\"\n",
    "state = \"DC\"\n",
    "\n",
    "# Build query URL\n",
    "query_url = url + \"zws-id=\" + api_key + \"&city=\" + city +\"&state=\" + state + \"&childtype=neighborhood\" + \"&output=json\" \n",
    "print(query_url)\n",
    "\n",
    "# Get Zillow data\n",
    "zillow_response = req.get(query_url)\n",
    "\n",
    "with open('zillow_response.xml', 'w') as f:\n",
    "    f.write(zillow_response.text)\n",
    "    \n",
    "def parse_xml(xml):\n",
    "    soup = BeautifulSoup(xml)\n",
    "    return soup\n",
    "\n",
    "if __name__ == '__main__':\n",
    "    with open('zillow_response.xml', 'r') as zillow_xml:\n",
    "        xml_contents = zillow_xml.read()\n",
    "    #soup = parse_xml(xml_contents)\n",
    "    #print(soup.prettify())\n",
    "    temp_file = json.dumps(parker.data(fromstring(xml_contents)), indent=4)\n",
    "    temp2_file = json.loads(temp_file)\n",
    "    #print(json.dumps(parker.data(fromstring(xml_contents)), indent=4))\n",
    "\n",
    "temp2_file\n",
    "#zillow_df = pd.DataFrame(temp2_file)\n",
    "#zillow_df.head()"
   ]
  },
  {
   "cell_type": "code",
   "execution_count": 51,
   "metadata": {},
   "outputs": [
    {
     "data": {
      "text/html": [
       "<div>\n",
       "<style>\n",
       "    .dataframe thead tr:only-child th {\n",
       "        text-align: right;\n",
       "    }\n",
       "\n",
       "    .dataframe thead th {\n",
       "        text-align: left;\n",
       "    }\n",
       "\n",
       "    .dataframe tbody tr th {\n",
       "        vertical-align: top;\n",
       "    }\n",
       "</style>\n",
       "<table border=\"1\" class=\"dataframe\">\n",
       "  <thead>\n",
       "    <tr style=\"text-align: right;\">\n",
       "      <th></th>\n",
       "      <th>id</th>\n",
       "      <th>latitude</th>\n",
       "      <th>longitude</th>\n",
       "      <th>name</th>\n",
       "      <th>url</th>\n",
       "      <th>zindex</th>\n",
       "    </tr>\n",
       "  </thead>\n",
       "  <tbody>\n",
       "    <tr>\n",
       "      <th>0</th>\n",
       "      <td>121697</td>\n",
       "      <td>38.928257</td>\n",
       "      <td>-77.029264</td>\n",
       "      <td>Columbia Heights</td>\n",
       "      <td>http://www.zillow.com/local-info/DC-Washington...</td>\n",
       "      <td>NaN</td>\n",
       "    </tr>\n",
       "    <tr>\n",
       "      <th>1</th>\n",
       "      <td>121685</td>\n",
       "      <td>38.887156</td>\n",
       "      <td>-76.998955</td>\n",
       "      <td>Capitol Hill</td>\n",
       "      <td>http://www.zillow.com/local-info/DC-Washington...</td>\n",
       "      <td>NaN</td>\n",
       "    </tr>\n",
       "    <tr>\n",
       "      <th>2</th>\n",
       "      <td>121774</td>\n",
       "      <td>38.946405</td>\n",
       "      <td>-77.018236</td>\n",
       "      <td>Petworth</td>\n",
       "      <td>http://www.zillow.com/local-info/DC-Washington...</td>\n",
       "      <td>479300.0</td>\n",
       "    </tr>\n",
       "    <tr>\n",
       "      <th>3</th>\n",
       "      <td>121668</td>\n",
       "      <td>38.921190</td>\n",
       "      <td>-77.043406</td>\n",
       "      <td>Adams Morgan</td>\n",
       "      <td>http://www.zillow.com/local-info/DC-Washington...</td>\n",
       "      <td>NaN</td>\n",
       "    </tr>\n",
       "    <tr>\n",
       "      <th>4</th>\n",
       "      <td>121806</td>\n",
       "      <td>38.830750</td>\n",
       "      <td>-76.990587</td>\n",
       "      <td>Washington Highlands</td>\n",
       "      <td>http://www.zillow.com/local-info/DC-Washington...</td>\n",
       "      <td>NaN</td>\n",
       "    </tr>\n",
       "  </tbody>\n",
       "</table>\n",
       "</div>"
      ],
      "text/plain": [
       "       id   latitude  longitude                  name  \\\n",
       "0  121697  38.928257 -77.029264      Columbia Heights   \n",
       "1  121685  38.887156 -76.998955          Capitol Hill   \n",
       "2  121774  38.946405 -77.018236              Petworth   \n",
       "3  121668  38.921190 -77.043406          Adams Morgan   \n",
       "4  121806  38.830750 -76.990587  Washington Highlands   \n",
       "\n",
       "                                                 url    zindex  \n",
       "0  http://www.zillow.com/local-info/DC-Washington...       NaN  \n",
       "1  http://www.zillow.com/local-info/DC-Washington...       NaN  \n",
       "2  http://www.zillow.com/local-info/DC-Washington...  479300.0  \n",
       "3  http://www.zillow.com/local-info/DC-Washington...       NaN  \n",
       "4  http://www.zillow.com/local-info/DC-Washington...       NaN  "
      ]
     },
     "execution_count": 51,
     "metadata": {},
     "output_type": "execute_result"
    }
   ],
   "source": [
    "#create a for loop to take key values in the dictionary\n",
    "\n",
    "zillow_df = pd.DataFrame(temp2_file['response']['list']['region'])\n",
    "zillow_df.head()"
   ]
  },
  {
   "cell_type": "code",
   "execution_count": null,
   "metadata": {
    "collapsed": true
   },
   "outputs": [],
   "source": [
    "#calculate the distance between the neighborhood lat/lon and the bikeshare lat/lon... this needs to be within a loop to calculate\n",
    "#min distance between each bike share and all neighborhoods\n",
    "\n",
    "\n",
    "''' \n",
    "#radius of the earth in km\n",
    "R = 6373.0\n",
    "\n",
    "lat1 = radians(52.2296756)\n",
    "lon1 = radians(21.0122287)\n",
    "lat2 = radians(52.406374)\n",
    "lon2 = radians(16.9251681)\n",
    "\n",
    "dlon = lon2 - lon1\n",
    "dlat = lat2 - lat1\n",
    "\n",
    "a = sin(dlat / 2)**2 + cos(lat1) * cos(lat2) * sin(dlon / 2)**2\n",
    "c = 2 * atan2(sqrt(a), sqrt(1 - a))\n",
    "\n",
    "distance = R * c'''\n",
    "\n",
    "print(\"Result:\", distance)\n",
    "print(\"Should be:\", 278.546, \"km\")\n"
   ]
  }
 ],
 "metadata": {
  "kernelspec": {
   "display_name": "Python [conda env:PythonData]",
   "language": "python",
   "name": "conda-env-PythonData-py"
  },
  "language_info": {
   "codemirror_mode": {
    "name": "ipython",
    "version": 3
   },
   "file_extension": ".py",
   "mimetype": "text/x-python",
   "name": "python",
   "nbconvert_exporter": "python",
   "pygments_lexer": "ipython3",
   "version": "3.6.3"
  }
 },
 "nbformat": 4,
 "nbformat_minor": 2
}

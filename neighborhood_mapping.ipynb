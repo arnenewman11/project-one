{
 "cells": [
  {
   "cell_type": "code",
   "execution_count": 14,
   "metadata": {},
   "outputs": [
    {
     "name": "stdout",
     "output_type": "stream",
     "text": [
      "http://www.zillow.com/webservice/GetRegionChildren.htm?zws-id=X1-ZWz1g5wdt5pyq3_8nu8h&city=Washington&state=DC&childtype=neighborhood\n"
     ]
    }
   ],
   "source": [
    "# Dependencies\n",
    "import json\n",
    "import requests as req\n",
    "from bs4 import BeautifulSoup\n",
    "\n",
    "# Save config information\n",
    "api_key = \"X1-ZWz1g5wdt5pyq3_8nu8h\"\n",
    "url = \"http://www.zillow.com/webservice/GetRegionChildren.htm?\"\n",
    "city = \"Washington\"\n",
    "state = \"DC\"\n",
    "\n",
    "# Build query URL\n",
    "query_url = url + \"zws-id=\" + api_key + \"&city=\" + city +\"&state=\" + state + \"&childtype=neighborhood\"\n",
    "print(query_url)\n",
    "\n",
    "# Get Zillow data\n",
    "zillow_response = req.get(query_url)\n",
    "\n",
    "#neighborhood_json = zillow_response. USE BEAUTIFUL SOUP to convert from XML\n",
    "\n",
    "#use this geocoding site to go from intersection to lat/long: https://developer.here.com/api-explorer/rest/geocoder/latitude-longitude-intersection\n"
   ]
  },
  {
   "cell_type": "code",
   "execution_count": null,
   "metadata": {
    "collapsed": true
   },
   "outputs": [],
   "source": []
  }
 ],
 "metadata": {
  "kernelspec": {
   "display_name": "Python [conda env:PythonData]",
   "language": "python",
   "name": "conda-env-PythonData-py"
  },
  "language_info": {
   "codemirror_mode": {
    "name": "ipython",
    "version": 3
   },
   "file_extension": ".py",
   "mimetype": "text/x-python",
   "name": "python",
   "nbconvert_exporter": "python",
   "pygments_lexer": "ipython3",
   "version": "3.6.3"
  }
 },
 "nbformat": 4,
 "nbformat_minor": 2
}

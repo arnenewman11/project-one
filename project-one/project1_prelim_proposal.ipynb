{
 "cells": [
  {
   "cell_type": "markdown",
   "metadata": {},
   "source": [
    "Examine residential property prices in 2-3 US metropolitan areas, via Zillow, as a function of several different variables over a discrete time period, including:\n",
    "-\tDrug use (National Institute of Drug Abuse)\n",
    "-\tProximity to bike share or alternative local transport (Google Maps & local company APIs)\n",
    "-\tLocation of productive programmers/coders (Stack Overflow user location data)\n",
    "-\tTwitter mentions of key phrases potentially indicative of a high-income lifestyle (e.g., brunch, NPR)\n"
   ]
  }
 ],
 "metadata": {
  "kernelspec": {
   "display_name": "Python [conda env:PythonData]",
   "language": "python",
   "name": "conda-env-PythonData-py"
  },
  "language_info": {
   "codemirror_mode": {
    "name": "ipython",
    "version": 3
   },
   "file_extension": ".py",
   "mimetype": "text/x-python",
   "name": "python",
   "nbconvert_exporter": "python",
   "pygments_lexer": "ipython3",
   "version": "3.6.3"
  }
 },
 "nbformat": 4,
 "nbformat_minor": 2
}
